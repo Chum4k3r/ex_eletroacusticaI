{
  "nbformat": 4,
  "nbformat_minor": 0,
  "metadata": {
    "colab": {
      "name": "EA_EX3_MembranaTensionada.ipynb",
      "provenance": [],
      "collapsed_sections": [],
      "authorship_tag": "ABX9TyOL/6/pgJPPJ4cdKP80+UqK",
      "include_colab_link": true
    },
    "kernelspec": {
      "name": "python3",
      "display_name": "Python 3"
    },
    "language_info": {
      "name": "python"
    }
  },
  "cells": [
    {
      "cell_type": "markdown",
      "metadata": {
        "id": "view-in-github",
        "colab_type": "text"
      },
      "source": [
        "<a href=\"https://colab.research.google.com/github/Chum4k3r/ex_eletroacusticaI/blob/main/EA_EX3_MembranaTensionada.ipynb\" target=\"_parent\"><img src=\"https://colab.research.google.com/assets/colab-badge.svg\" alt=\"Open In Colab\"/></a>"
      ]
    },
    {
      "cell_type": "markdown",
      "metadata": {
        "id": "01yYWqM3hU9z"
      },
      "source": [
        "# Solução por parâmetros concentrados para o sistema Membrana Tensionada"
      ]
    },
    {
      "cell_type": "markdown",
      "metadata": {
        "id": "FzxyuHBDa6s3"
      },
      "source": [
        "### A membrana tensionada é um sistema mecânico que pode ser representado pela analogia direta, ou analogia de impedâncias"
      ]
    },
    {
      "cell_type": "markdown",
      "metadata": {
        "id": "4CvMBRIDrGMA"
      },
      "source": [
        "![image.png](data:image/png;base64,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)"
      ]
    },
    {
      "cell_type": "markdown",
      "metadata": {
        "id": "-g_vX_rGbKbC"
      },
      "source": [
        "### Nessa analogia, a Força, $f(t)$, é análoga a Tensão Elétrica, $e(t)$.\n",
        "### E a Velocidade, $v_{1}$, é análoga a Corrente Elétrica, $i_{1}$.\n",
        "\n",
        "### Em um microfone de medição de típico, de meia polegada de diâmetro, tem-se:\n",
        "\n",
        "> ## $T_{m} = 3160\\ \\text{N/m}$;\n",
        "> ## $\\rho_{m} = 890\\ \\text{kg/m}^{3}$;\n",
        "> ## $t_{m} = 5\\ \\mu\\text{m}$;\n",
        "> ## $a_{m} = 6.3\\ \\text{mm}$;\n",
        "\n",
        "### Com $T_{m}$ sendo a tensão, $\\rho_{m}$ a densidade volumétrica, $t_{m}$ a espessura e $a_{m}$ o raio da membrana.\n",
        "\n",
        "### Como pode ser visto na seção 3.3 da apostila de eletroacústica, as equações da massa e da compliância da membrana são:"
      ]
    },
    {
      "cell_type": "markdown",
      "metadata": {
        "id": "DHYZaw9mJrI7"
      },
      "source": [
        " > ## $M_{m} = \\large\\frac{\\pi a^{2} \\rho_{m}t_{m}}{3}$\n",
        " > ## $C_{m} = \\large\\frac{1}{2\\pi T_{m}}$\n",
        "\n"
      ]
    },
    {
      "cell_type": "code",
      "metadata": {
        "id": "tsP9eFexLWqc"
      },
      "source": [
        "import numpy as np\n",
        "from matplotlib import pyplot as plt\n",
        "\n",
        "# Nome das variaveis para membrana de microfone\n",
        "# m -> prefixo para grandeza referênte a membrana\n",
        "# f -> valor em frequência\n"
      ],
      "execution_count": 18,
      "outputs": []
    },
    {
      "cell_type": "code",
      "metadata": {
        "colab": {
          "base_uri": "https://localhost:8080/"
        },
        "id": "Ft6i60ByJNV2",
        "outputId": "76f528e2-b295-4787-b4ca-4764e09c4ee4"
      },
      "source": [
        "mTensao = 3160.  # Tensão mecânica aplicada a membrana\n",
        "mDens = 890.  # Densidade volumétrica da composição dos materiais\n",
        "mEspes = 5e-6   # Espessura da membrana\n",
        "mRaio = 0.0063  # Raio da membrana\n",
        "\n",
        "mMassa = np.pi * mRaio**2 * mDens * mEspes / 3  # Massa mecânica\n",
        "mCompl = (2 * np.pi * mTensao)**-1  # Compliância mecânica\n",
        "\n",
        "mVelProp = (mTensao / (mDens * mEspes))**0.5\n",
        "\n",
        "print(f'\\nTensão: {mTensao} N/m\\nDensidade: {mDens} kg/m³\\nEspessura: {mEspes*1e6} \\u03bcm\\nRaio: {mRaio*1e3} mm\\n')\n",
        "print(f'\\nVelocidade de propagação do som: {mVelProp:.3f} m/s\\n')\n",
        "print(f'\\nMassa = {mMassa*1e6:.3f} mg\\nCompliância = {mCompl:.3e} m/N\\n')\n"
      ],
      "execution_count": 25,
      "outputs": [
        {
          "output_type": "stream",
          "text": [
            "\n",
            "Tensão: 3160.0 N/m\n",
            "Densidade: 890.0 kg/m³\n",
            "Espessura: 5.0 μm\n",
            "Raio: 6.3 mm\n",
            "\n",
            "\n",
            "Velocidade de propagação do som: 842.682 m/s\n",
            "\n",
            "\n",
            "Massa = 0.185 mg\n",
            "Compliância = 5.037e-05 m/N\n",
            "\n"
          ],
          "name": "stdout"
        }
      ]
    },
    {
      "cell_type": "code",
      "metadata": {
        "colab": {
          "base_uri": "https://localhost:8080/"
        },
        "id": "7WnWWpGhW85s",
        "outputId": "a0ad7dd4-9dff-4154-f711-e824988960e2"
      },
      "source": [
        "mVel = (mTensao / (mDens * mEspes))**0.5\n",
        "mfRes = (1/(mCompl * mMassa))**0.5\n",
        "\n",
        "print(f'\\nVel. propagação = {mVel:.2f} m/s\\nFreq. ressonância = {mfRes / (2*np.pi):.1f} Hz\\n')\n"
      ],
      "execution_count": 26,
      "outputs": [
        {
          "output_type": "stream",
          "text": [
            "\n",
            "Vel. propagação = 842.68 m/s\n",
            "Freq. ressonância = 52145.7 Hz\n",
            "\n"
          ],
          "name": "stdout"
        }
      ]
    },
    {
      "cell_type": "markdown",
      "metadata": {
        "id": "pqgevsLbslSz"
      },
      "source": [
        "## Altere o valor da variável $\\texttt{mAmort}$ para observar a mudança do comportamento da FRF. Algumas sugestões de valores:\n",
        "\n",
        "> ## $[0.001, 0.03, 0.05, 0.1]$"
      ]
    },
    {
      "cell_type": "code",
      "metadata": {
        "colab": {
          "base_uri": "https://localhost:8080/"
        },
        "id": "15Ja3E6LW8UZ",
        "outputId": "5b669a22-6115-4359-fefe-98cd442e626d"
      },
      "source": [
        "mAmort =  0.025  # valor arbitrário de amortecimento\n",
        "mAmCrit = 2 * mMassa * mfRes  # amortecimento crítico\n",
        "mAmCoef = mAmort / mAmCrit  # coeficiente de amortecimento\n",
        "mfResAm = mfRes * (1 - mAmCoef**2)**0.5  # ressonância amortecida em rad/s\n",
        "fcut = mfResAm  / (2*np.pi)  # freq de corte\n",
        "\n",
        "print(f'\\nRessonância amortecida = {fcut:.1f} Hz\\nAmortecimento crítico = {mAmCrit:.3f} Ns/m',\n",
        "      f'\\nCoeficiente de amortecimento = {mAmCoef:.3f}\\nAmortecimento = {mAmort} Ns/m\\n')\n"
      ],
      "execution_count": 42,
      "outputs": [
        {
          "output_type": "stream",
          "text": [
            "\n",
            "Ressonância amortecida = 51024.3 Hz\n",
            "Amortecimento crítico = 0.121 Ns/m \n",
            "Coeficiente de amortecimento = 0.206\n",
            "Amortecimento = 0.025 Ns/m\n",
            "\n"
          ],
          "name": "stdout"
        }
      ]
    },
    {
      "cell_type": "code",
      "metadata": {
        "id": "URB_1sKwdbzX"
      },
      "source": [
        "# Espaço de frequências para visualização\n",
        "# Como a ressonância está localizada em 51 kHz\n",
        "# Precisamos utilizar um espaço de frequências que contenha a ressonância\n",
        "freqs = np.linspace(10000, 100000, 90001)\n",
        "omega = lambda x: 2*np.pi*x\n",
        "decibel = lambda sinal: 10 * np.log10((sinal**2))\n",
        "rad2deg = lambda ang: 180 * ang / np.pi\n",
        "\n",
        "mFRF = 1/(1/mCompl - omega(freqs)**2 * mMassa + 1j * omega(freqs) * mAmort)\n",
        "mFRF_mag = np.abs(mFRF)\n",
        "mFRF_ang = rad2deg(np.angle(mFRF))"
      ],
      "execution_count": 43,
      "outputs": []
    },
    {
      "cell_type": "code",
      "metadata": {
        "colab": {
          "base_uri": "https://localhost:8080/",
          "height": 297
        },
        "id": "xzIFYYnlLrs4",
        "outputId": "e3a72eaa-bec9-4dba-d2dc-3ea7aadbf7b1"
      },
      "source": [
        "fig, axs = plt.subplots(2,1)\n",
        "\n",
        "axs[0].semilogx(freqs, decibel(mFRF_mag))\n",
        "axs[0].vlines(fcut, decibel(np.min(mFRF_mag)), decibel(np.max(mFRF_mag)))\n",
        "\n",
        "axs[1].semilogx(freqs, mFRF_ang)\n",
        "axs[1].vlines(fcut, np.min(mFRF_ang), np.max(mFRF_ang))\n",
        "\n",
        "fig.tight_layout()\n",
        "fig.show()\n"
      ],
      "execution_count": 44,
      "outputs": [
        {
          "output_type": "display_data",
          "data": {
            "image/png": "[encoded data removed]",
            "text/plain": [
              "<Figure size 432x288 with 2 Axes>"
            ]
          },
          "metadata": {
            "tags": [],
            "needs_background": "light"
          }
        }
      ]
    }
  ]
}